{
 "cells": [
  {
   "cell_type": "code",
   "execution_count": 1,
   "id": "7b0948f8-8dfc-4649-ba1b-5a7b249503df",
   "metadata": {},
   "outputs": [],
   "source": [
    "# Q1. What is an Exception in Python? Write the difference between Exceptions and Syntax errors.\n",
    "\n",
    "# A1.An exception in Python is an event that occurs during the execution of a program, which disrupts the normal flow of the program's instructions. It is a way to handle errors or exceptional conditions that may arise during runtime. Exceptions provide a mechanism to gracefully handle errors and prevent the program from crashing.\n",
    "\n",
    "# The main difference between exceptions and syntax errors is as follows:\n",
    "\n",
    "# Syntax errors occur when the code violates the syntax rules of the programming language. These errors prevent the program from running and must be fixed before execution.\n",
    "# Exceptions, on the other hand, occur during the execution of a program due to various factors such as invalid input, division by zero, or accessing non-existent variables. Exceptions can be handled within the program using try-except blocks, allowing the program to continue running even if an exception occurs.\n"
   ]
  },
  {
   "cell_type": "code",
   "execution_count": null,
   "id": "e40c9011-7853-4c73-ad92-7ad5966e6303",
   "metadata": {},
   "outputs": [],
   "source": [
    "# Q2. What happens when an exception is not handled? Explain with an example.\n",
    "\n",
    "# A2. When an exception is not handled, it results in an unhandled exception error. This error terminates the execution of the program and displays an error message indicating the type of exception that occurred and the line of code where it happened.\n",
    "\n",
    "# For example, let's say we have the following code:\n",
    "\n",
    "\n",
    "num1 = 10\n",
    "num2 = 0\n",
    "result = num1 / num2\n",
    "print(\"Result:\", result)\n",
    "#In this case, we are trying to divide num1 by num2, where num2 is zero. This will raise a ZeroDivisionError exception because division by zero is not allowed. If this exception is not handled, the program will terminate and display the following error message:\n",
    "\n"
   ]
  },
  {
   "cell_type": "code",
   "execution_count": 6,
   "id": "85f2dcfe-9f45-4de9-b86d-72e996274f8b",
   "metadata": {},
   "outputs": [
    {
     "name": "stdin",
     "output_type": "stream",
     "text": [
      "Enter a number:  1\n",
      "Enter another number:  0\n"
     ]
    },
    {
     "name": "stdout",
     "output_type": "stream",
     "text": [
      "Cannot divide by zero.\n"
     ]
    }
   ],
   "source": [
    "# Q3. Which Python statements are used to catch and handle exceptions? Explain with an example.\n",
    "\n",
    "# A3.In Python, the try-except statements are used to catch and handle exceptions. The general syntax is as follows:\n",
    "\n",
    "# try:\n",
    "#     # Code that may raise an exception\n",
    "#     ...\n",
    "# except ExceptionType:\n",
    "#     # Code to handle the exception\n",
    "#     ...\n",
    "# Here's an example:\n",
    "\n",
    "\n",
    "try:\n",
    "    num1 = int(input(\"Enter a number: \"))\n",
    "    num2 = int(input(\"Enter another number: \"))\n",
    "    result = num1 / num2\n",
    "    print(\"Result:\", result)\n",
    "except ValueError:\n",
    "    print(\"Invalid input. Please enter a valid number.\")\n",
    "except ZeroDivisionError:\n",
    "    print(\"Cannot divide by zero.\")\n",
    "#In this example, the try block contains the code that may raise exceptions. If an exception occurs, it will be caught\n",
    "#by the appropriate except block. The program will then execute the code inside the corresponding except block, providing a way to handle the exception gracefully.\n"
   ]
  },
  {
   "cell_type": "code",
   "execution_count": 4,
   "id": "18c8bb9b-917a-4e86-9747-f8754c3147f1",
   "metadata": {},
   "outputs": [
    {
     "name": "stdin",
     "output_type": "stream",
     "text": [
      "Enter a number:  1\n",
      "Enter another number:  0\n"
     ]
    },
    {
     "name": "stdout",
     "output_type": "stream",
     "text": [
      "Execution complete.\n"
     ]
    },
    {
     "ename": "ZeroDivisionError",
     "evalue": "division by zero",
     "output_type": "error",
     "traceback": [
      "\u001b[0;31m---------------------------------------------------------------------------\u001b[0m",
      "\u001b[0;31mZeroDivisionError\u001b[0m                         Traceback (most recent call last)",
      "Cell \u001b[0;32mIn [4], line 13\u001b[0m\n\u001b[1;32m     11\u001b[0m     num1 \u001b[38;5;241m=\u001b[39m \u001b[38;5;28mint\u001b[39m(\u001b[38;5;28minput\u001b[39m(\u001b[38;5;124m\"\u001b[39m\u001b[38;5;124mEnter a number: \u001b[39m\u001b[38;5;124m\"\u001b[39m))\n\u001b[1;32m     12\u001b[0m     num2 \u001b[38;5;241m=\u001b[39m \u001b[38;5;28mint\u001b[39m(\u001b[38;5;28minput\u001b[39m(\u001b[38;5;124m\"\u001b[39m\u001b[38;5;124mEnter another number: \u001b[39m\u001b[38;5;124m\"\u001b[39m))\n\u001b[0;32m---> 13\u001b[0m     result \u001b[38;5;241m=\u001b[39m \u001b[43mnum1\u001b[49m\u001b[43m \u001b[49m\u001b[38;5;241;43m/\u001b[39;49m\u001b[43m \u001b[49m\u001b[43mnum2\u001b[49m\n\u001b[1;32m     14\u001b[0m \u001b[38;5;28;01mexcept\u001b[39;00m \u001b[38;5;167;01mValueError\u001b[39;00m:\n\u001b[1;32m     15\u001b[0m     \u001b[38;5;28mprint\u001b[39m(\u001b[38;5;124m\"\u001b[39m\u001b[38;5;124mInvalid input. Please enter a valid number.\u001b[39m\u001b[38;5;124m\"\u001b[39m)\n",
      "\u001b[0;31mZeroDivisionError\u001b[0m: division by zero"
     ]
    }
   ],
   "source": [
    "#Q4. Explain with an example: try, except, else, finally, and raise statements.\n",
    "\n",
    "# A4. try: The try block is used to enclose the code that may raise exceptions.\n",
    "# except: The except block is used to handle specific exceptions that may occur in the try block.\n",
    "# else: The else block is executed if no exceptions are raised in the try block. It is optional and provides an opportunity to perform additional operations when no exceptions occur.\n",
    "# finally: The finally block is always executed, regardless of whether an exception occurred or not. It is used to define cleanup actions that must be performed, such as closing files or releasing resources.\n",
    "# raise: The raise statement is used to explicitly raise an exception.\n",
    "# Here's an example that demonstrates the use of these statements:\n",
    "\n",
    "try:\n",
    "    num1 = int(input(\"Enter a number: \"))\n",
    "    num2 = int(input(\"Enter another number: \"))\n",
    "    result = num1 / num2\n",
    "except ValueError:\n",
    "    print(\"Invalid input. Please enter a valid number.\")\n",
    "else:\n",
    "    print(\"Result:\", result)\n",
    "finally:\n",
    "    print(\"Execution complete.\")\n",
    "#In this example, if the user enters invalid input or tries to divide by zero, the respective except block will handle the exception. If no exception occurs, the code in the else block will execute, printing the result. Finally, the finally block will always execute, printing \"Execution complete\" regardless of whether an exception occurred or not.\n"
   ]
  },
  {
   "cell_type": "code",
   "execution_count": null,
   "id": "0fe68977-5306-4b68-ba30-a1d78330f50a",
   "metadata": {},
   "outputs": [],
   "source": [
    "# Q5. What are Custom Exceptions in Python? Why do we need Custom Exceptions? Explain with an example.\n",
    "\n",
    "# A5. Custom exceptions, also known as user-defined exceptions, are exceptions defined by the programmer to handle specific error conditions. Python allows developers to create their own exception classes by deriving them from the built-in Exception class or any of its subclasses.\n",
    "\n",
    "# We need custom exceptions to differentiate specific error conditions in our code and provide more meaningful error messages. By defining custom exception classes, we can raise and handle exceptions that are specific to our application's logic.\n",
    "\n",
    "# Here's an example:\n",
    "\n",
    "\n",
    "class CustomError(Exception):\n",
    "    pass\n",
    "\n",
    "def calculate_square_root(num):\n",
    "    if num < 0:\n",
    "        raise CustomError(\"Cannot calculate square root of a negative number.\")\n",
    "    else:\n",
    "        return num ** 0.5\n",
    "\n",
    "try:\n",
    "    result = calculate_square_root(-9)\n",
    "    print(\"Square root:\", result)\n",
    "except CustomError as e:\n",
    "    print(\"Error:\", str(e))\n",
    "#In this example, we define a custom exception class called CustomError by deriving it from the base Exception class. The calculate_square_root function raises this custom exception if the input number is negative. In the try-except block, we catch the CustomError exception and print a custom error message. This allows us to handle the specific error condition of calculating the square root of a negative number.\n"
   ]
  },
  {
   "cell_type": "code",
   "execution_count": null,
   "id": "7106d3b6-4a43-4533-8f16-c064d81daaa4",
   "metadata": {},
   "outputs": [],
   "source": [
    "#Q6. Create a custom exception class. Use this class to handle an exception.\n",
    "\n",
    "#A6. Here's an example of creating a custom exception class and handling an exception using it:\n",
    "\n",
    "\n",
    "class CustomException(Exception):\n",
    "    def __init__(self, message):\n",
    "        self.message = message\n",
    "\n",
    "try:\n",
    "    age = int(input(\"Enter your age: \"))\n",
    "    if age < 0:\n",
    "        raise CustomException(\"Age cannot be negative.\")\n",
    "    else:\n",
    "        print(\"Valid age:\", age)\n",
    "except CustomException as e:\n",
    "    print(\"Error:\", e.message)\n",
    "#In this example, we define a custom exception class called CustomException. It takes a message as an argument in its constructor. Inside the try block, we prompt the user to enter their age. If the age is negative, we raise a CustomException with an appropriate error message. The except block catches this exception and prints the custom error message provided when raising the exception.\n",
    "\n",
    "\n",
    "\n",
    "\n"
   ]
  }
 ],
 "metadata": {
  "kernelspec": {
   "display_name": "Python 3 (ipykernel)",
   "language": "python",
   "name": "python3"
  },
  "language_info": {
   "codemirror_mode": {
    "name": "ipython",
    "version": 3
   },
   "file_extension": ".py",
   "mimetype": "text/x-python",
   "name": "python",
   "nbconvert_exporter": "python",
   "pygments_lexer": "ipython3",
   "version": "3.10.6"
  }
 },
 "nbformat": 4,
 "nbformat_minor": 5
}
